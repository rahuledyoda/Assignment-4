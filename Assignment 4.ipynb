{
 "cells": [
  {
   "cell_type": "code",
   "execution_count": 2,
   "id": "b3253638",
   "metadata": {},
   "outputs": [
    {
     "name": "stdout",
     "output_type": "stream",
     "text": [
      "35\n"
     ]
    }
   ],
   "source": [
    "# Write a Python program to create a lambda function that adds 25 to a given number passed in as an argument.\n",
    "\n",
    "\n",
    "\n",
    "# sample input: 10\n",
    "\n",
    "# sample output: 35\n",
    "\n",
    "\n",
    "r = lambda a : a + 25\n",
    "print(r(10))"
   ]
  },
  {
   "cell_type": "code",
   "execution_count": null,
   "id": "50e7df96",
   "metadata": {},
   "outputs": [],
   "source": []
  }
 ],
 "metadata": {
  "kernelspec": {
   "display_name": "Python 3",
   "language": "python",
   "name": "python3"
  },
  "language_info": {
   "codemirror_mode": {
    "name": "ipython",
    "version": 3
   },
   "file_extension": ".py",
   "mimetype": "text/x-python",
   "name": "python",
   "nbconvert_exporter": "python",
   "pygments_lexer": "ipython3",
   "version": "3.8.8"
  }
 },
 "nbformat": 4,
 "nbformat_minor": 5
}
